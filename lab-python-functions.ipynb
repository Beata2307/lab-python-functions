{
 "cells": [
  {
   "cell_type": "markdown",
   "id": "25d7736c-ba17-4aff-b6bb-66eba20fbf4e",
   "metadata": {},
   "source": [
    "# Lab | Functions"
   ]
  },
  {
   "cell_type": "markdown",
   "id": "0c581062-8967-4d93-b06e-62833222f930",
   "metadata": {
    "tags": []
   },
   "source": [
    "## Exercise: Managing Customer Orders with Functions\n",
    "\n",
    "In the previous exercise, you improved the code for managing customer orders by using loops and flow control. Now, let's take it a step further and refactor the code by introducing functions.\n",
    "\n",
    "Follow the steps below to complete the exercise:\n",
    "\n",
    "1. Define a function named `initialize_inventory` that takes `products` as a parameter. Inside the function, implement the code for initializing the inventory dictionary using a loop and user input.\n",
    "\n",
    "2. Define a function named `get_customer_orders` that takes no parameters. Inside the function, implement the code for prompting the user to enter the product names using a loop. The function should return the `customer_orders` set.\n",
    "\n",
    "3. Define a function named `update_inventory` that takes `customer_orders` and `inventory` as parameters. Inside the function, implement the code for updating the inventory dictionary based on the customer orders.\n",
    "\n",
    "4. Define a function named `calculate_order_statistics` that takes `customer_orders` and `products` as parameters. Inside the function, implement the code for calculating the order statistics (total products ordered, and percentage of unique products ordered). The function should return these values.\n",
    "\n",
    "5. Define a function named `print_order_statistics` that takes `order_statistics` as a parameter. Inside the function, implement the code for printing the order statistics.\n",
    "\n",
    "6. Define a function named `print_updated_inventory` that takes `inventory` as a parameter. Inside the function, implement the code for printing the updated inventory.\n",
    "\n",
    "7. Call the functions in the appropriate sequence to execute the program and manage customer orders.\n",
    "\n",
    "Hints for functions:\n",
    "\n",
    "- Consider the input parameters required for each function and their return values.\n",
    "- Utilize function parameters and return values to transfer data between functions.\n",
    "- Test your functions individually to ensure they work correctly.\n",
    "\n",
    "\n"
   ]
  },
  {
   "cell_type": "code",
   "execution_count": 43,
   "id": "98d69dcd-c5f8-456b-b0d2-6dee6c163bf6",
   "metadata": {
    "tags": []
   },
   "outputs": [],
   "source": [
    "#1\n",
    "\n",
    "def initialize_inventory(products):\n",
    "    inventory = {}\n",
    "    for key in products:\n",
    "        value = input(f\"Please enter the quantity of '{key}' available: \")\n",
    "        if not value.isdigit():\n",
    "            value = input(f\"Please enter the valid number for quantity of '{key}' available: \")\n",
    "        value = float(value)\n",
    "        inventory[key] = value\n",
    "    return inventory\n",
    "    "
   ]
  },
  {
   "cell_type": "code",
   "execution_count": 44,
   "id": "dfc9d9a0-c5d5-4d05-99a8-59a8a9d350f3",
   "metadata": {
    "tags": []
   },
   "outputs": [],
   "source": [
    "#2 \n",
    "\n",
    "def get_customer_orders():\n",
    "    add_order = True\n",
    "    \n",
    "    customer_orders = set()\n",
    "    \n",
    "    while add_order:\n",
    "        order = input(f\"Please enter product ordered by a costumer: \")\n",
    "        customer_orders.add(order)\n",
    "    \n",
    "        quest = True\n",
    "        while quest:\n",
    "            question = input(f\"Do you want to add another product? Type 'yes' or 'no'\")\n",
    "            if question == \"no\":\n",
    "                add_order = False\n",
    "                quest = False\n",
    "            elif question == 'yes':\n",
    "                quest = False\n",
    "            else:\n",
    "                print(\"Not sure what you mean. Type yes or no:\" )    \n",
    "        \n",
    "    return customer_orders"
   ]
  },
  {
   "cell_type": "code",
   "execution_count": 45,
   "id": "603ae4c6-1d6d-4506-9ccb-b80cd60f7174",
   "metadata": {
    "tags": []
   },
   "outputs": [],
   "source": [
    "#3 \n",
    "\n",
    "def update_inventory(customer_orders, inventory):\n",
    "    for key in customer_orders:\n",
    "        inventory[key] = inventory[key] - 1\n",
    "    return inventory"
   ]
  },
  {
   "cell_type": "code",
   "execution_count": 46,
   "id": "bb6d9344-917d-4db7-93e4-6f2d21369ea9",
   "metadata": {
    "tags": []
   },
   "outputs": [],
   "source": [
    "#4 Define a function named calculate_order_statistics that takes customer_orders and products as parameters.\n",
    "\n",
    "def calculate_order_statistics(customer_orders, products):\n",
    "    tot_ordered = len(customer_orders)\n",
    "    tot_available = len(products)\n",
    "    percentage = tot_ordered / tot_available *100\n",
    "    return tot_ordered, percentage"
   ]
  },
  {
   "cell_type": "code",
   "execution_count": 47,
   "id": "505b8f1c-ec8e-442c-8db8-1170c3ecfacb",
   "metadata": {
    "tags": []
   },
   "outputs": [],
   "source": [
    "# 5 Define a function named print_order_statistics that takes order_statistics as a parameter. \n",
    "\n",
    "def print_order_statistics(order_statistics):\n",
    "    print(\"Order Statistics:\")\n",
    "    print(f\"Total Products Ordered: {order_statistics[0]}\")\n",
    "    print(f\"Percentage of Products Ordered: {order_statistics[1]:.2f} %\")\n",
    "    "
   ]
  },
  {
   "cell_type": "code",
   "execution_count": 48,
   "id": "d111d3fe-72a6-43e2-b650-e6ea790ce598",
   "metadata": {
    "tags": []
   },
   "outputs": [],
   "source": [
    "# Define a function named print_updated_inventory that takes inventory as a parameter. Inside the function, implement the code for printing the updated inventory.\n",
    "\n",
    "def print_updated_inventory(inventory):\n",
    "    for k,v in inventory.items():\n",
    "        print(k,v)\n",
    "    "
   ]
  },
  {
   "cell_type": "code",
   "execution_count": 49,
   "id": "9b3b1304-7705-45fd-81f7-4057365a973d",
   "metadata": {
    "tags": []
   },
   "outputs": [
    {
     "name": "stdin",
     "output_type": "stream",
     "text": [
      "Please enter the quantity of 't-shirt' available:  52\n",
      "Please enter the quantity of 'mug' available:  23\n",
      "Please enter the quantity of 'hat' available:  14\n",
      "Please enter the quantity of 'book' available:  14\n",
      "Please enter the quantity of 'keychain' available:  25\n"
     ]
    },
    {
     "name": "stdout",
     "output_type": "stream",
     "text": [
      "The available products are :\n",
      "{'t-shirt': 52.0, 'mug': 23.0, 'hat': 14.0, 'book': 14.0, 'keychain': 25.0}\n",
      "\n"
     ]
    },
    {
     "name": "stdin",
     "output_type": "stream",
     "text": [
      "Please enter product ordered by a costumer:  hat\n",
      "Do you want to add another product? Type 'yes' or 'no' book\n"
     ]
    },
    {
     "name": "stdout",
     "output_type": "stream",
     "text": [
      "Not sure what you mean. Type yes or no:\n"
     ]
    },
    {
     "name": "stdin",
     "output_type": "stream",
     "text": [
      "Do you want to add another product? Type 'yes' or 'no' yes\n",
      "Please enter product ordered by a costumer:  mug\n",
      "Do you want to add another product? Type 'yes' or 'no' yes\n",
      "Please enter product ordered by a costumer:  hat\n",
      "Do you want to add another product? Type 'yes' or 'no' no\n"
     ]
    },
    {
     "name": "stdout",
     "output_type": "stream",
     "text": [
      "The customer ordered: {'hat', 'mug'}\n",
      "\n",
      "Inventory after update:\n",
      "t-shirt 52.0\n",
      "mug 22.0\n",
      "hat 13.0\n",
      "book 14.0\n",
      "keychain 25.0\n",
      "\n",
      "Order Statistics:\n",
      "Total Products Ordered: 2\n",
      "Percentage of Products Ordered: 40.00 %\n"
     ]
    }
   ],
   "source": [
    "products = [\"t-shirt\", \"mug\", \"hat\", \"book\", \"keychain\"]\n",
    "\n",
    "#\n",
    "inventory = initialize_inventory(products)\n",
    "\n",
    "print(\"The available products are :\")\n",
    "print(inventory)\n",
    "print()\n",
    "\n",
    "customer_orders = get_customer_orders()\n",
    "print(f\"The customer ordered: {customer_orders}\")\n",
    "print()\n",
    "\n",
    "\n",
    "# !!! do it separetly \n",
    "print(\"Inventory after update:\")\n",
    "updated_invenotry = update_inventory(customer_orders, inventory)\n",
    "\n",
    "print_updated_inventory(updated_invenotry)\n",
    "\n",
    "print()\n",
    "order_statistics = calculate_order_statistics(customer_orders, inventory)\n",
    "\n",
    "print_order_statistics(order_statistics)\n"
   ]
  },
  {
   "cell_type": "code",
   "execution_count": null,
   "id": "8232953f-78f4-459f-bcd4-a55ffd3f0856",
   "metadata": {},
   "outputs": [],
   "source": []
  }
 ],
 "metadata": {
  "kernelspec": {
   "display_name": "Python 3 (ipykernel)",
   "language": "python",
   "name": "python3"
  },
  "language_info": {
   "codemirror_mode": {
    "name": "ipython",
    "version": 3
   },
   "file_extension": ".py",
   "mimetype": "text/x-python",
   "name": "python",
   "nbconvert_exporter": "python",
   "pygments_lexer": "ipython3",
   "version": "3.11.5"
  }
 },
 "nbformat": 4,
 "nbformat_minor": 5
}
